{
 "cells": [
  {
   "cell_type": "markdown",
   "id": "df83d104",
   "metadata": {},
   "source": [
    "# TODO"
   ]
  },
  {
   "cell_type": "markdown",
   "id": "ac0dd966",
   "metadata": {},
   "source": [
    "1. Make graphs more interactive"
   ]
  },
  {
   "cell_type": "code",
   "execution_count": 2,
   "id": "ed0ab6bb",
   "metadata": {},
   "outputs": [],
   "source": [
    "from bokeh.plotting import figure, show\n",
    "from bokeh.tile_providers import CARTODBPOSITRON, get_provider\n",
    "from bokeh.models import ColumnDataSource\n",
    "from bokeh.io import output_notebook\n",
    "import geopandas as gpd\n",
    "import pandas as pd\n",
    "import json"
   ]
  },
  {
   "cell_type": "code",
   "execution_count": 3,
   "id": "8da4c53d",
   "metadata": {},
   "outputs": [
    {
     "name": "stdout",
     "output_type": "stream",
     "text": [
      "<class 'str'>\n"
     ]
    }
   ],
   "source": [
    "defaultDate = date(2021, 4, 29)\n",
    "print(type(str(defaultDate)))"
   ]
  },
  {
   "cell_type": "code",
   "execution_count": 4,
   "id": "f81a5cff",
   "metadata": {},
   "outputs": [],
   "source": [
    "# import naturalearth_lowres (country coordinates)\n",
    "world = gpd.read_file(gpd.datasets.get_path(\"naturalearth_lowres\"))\n",
    "world = world[['name', 'iso_a3', 'geometry']]\n",
    "world.columns = ['country', 'Alpha-3 code', 'geometry']"
   ]
  },
  {
   "cell_type": "code",
   "execution_count": 5,
   "id": "40b1915b",
   "metadata": {},
   "outputs": [],
   "source": [
    "# convert iso3 to iso2 codes\n",
    "iso = pd.read_csv('./data/iso-country-codes.csv')\n",
    "iso = iso[['Alpha-3 code', 'Alpha-2 code']]\n",
    "world = world.merge(iso, on='Alpha-3 code', how='left')\n",
    "world = world[['country', 'Alpha-2 code', 'geometry']]\n",
    "world.columns = ['country', 'country_code', 'geometry']"
   ]
  },
  {
   "cell_type": "code",
   "execution_count": 6,
   "id": "6560161b",
   "metadata": {},
   "outputs": [
    {
     "name": "stderr",
     "output_type": "stream",
     "text": [
      "/Users/hyunsoo_kim/venv/lib/python3.7/site-packages/IPython/core/interactiveshell.py:3444: DtypeWarning: Columns (3) have mixed types.Specify dtype option on import or set low_memory=False.\n",
      "  exec(code_obj, self.user_global_ns, self.user_ns)\n"
     ]
    }
   ],
   "source": [
    "# import air pollution data\n",
    "temp = pd.read_csv('./data/avgOfMedians.csv', names=['country_code', 'date', 'type', 'avg'])\n",
    "data = temp[4:]"
   ]
  },
  {
   "cell_type": "code",
   "execution_count": 8,
   "id": "3ce35f12",
   "metadata": {},
   "outputs": [],
   "source": [
    "# create different json for entire data\n",
    "# o3\n",
    "o3 = data[data['type'] == 'o3']\n",
    "o3_merged = world.merge(o3, on='country_code', how='left')\n",
    "o3_merged['type'].fillna('o3', inplace=True)\n",
    "o3_df = json.loads(o3_merged.to_json())\n",
    "o3_data = json.dumps(o3_df)\n",
    "\n",
    "# pm10\n",
    "pm10 = data[data['type'] == 'pm10']\n",
    "pm10_merged = world.merge(pm10, on='country_code', how='left')\n",
    "pm10_merged['type'].fillna('pm10', inplace=True)\n",
    "pm10_df = json.loads(pm10_merged.to_json())\n",
    "pm10_data = json.dumps(pm10_df)\n",
    "\n",
    "# pm25\n",
    "pm25 = data[data['type'] == 'pm25']\n",
    "pm25_merged = world.merge(pm25, on='country_code', how='left')\n",
    "pm25_merged['type'].fillna('pm25', inplace=True)\n",
    "pm25_df = json.loads(pm25_merged.to_json())\n",
    "pm25_data = json.dumps(pm25_df)\n",
    "\n",
    "# co\n",
    "co = data[data['type'] == 'co']\n",
    "co_merged = world.merge(co, on='country_code', how='left')\n",
    "co_merged['type'].fillna('co', inplace=True)\n",
    "co_df = json.loads(co_merged.to_json())\n",
    "co_data = json.dumps(co_df)\n",
    "\n",
    "# no2\n",
    "no2 = data[data['type'] == 'no2']\n",
    "no2_merged = world.merge(no2, on='country_code', how='left')\n",
    "no2_merged['type'].fillna('no2', inplace=True)\n",
    "no2_df = json.loads(no2_merged.to_json())\n",
    "no2_data = json.dumps(no2_df)\n",
    "\n",
    "# so2\n",
    "so2 = data[data['type'] == 'so2']\n",
    "so2_merged = world.merge(so2, on='country_code', how='left')\n",
    "so2_merged['type'].fillna('so2', inplace=True)\n",
    "so2_df = json.loads(so2_merged.to_json())\n",
    "so2_data = json.dumps(so2_df)"
   ]
  },
  {
   "cell_type": "code",
   "execution_count": 24,
   "id": "7da6e648",
   "metadata": {},
   "outputs": [
    {
     "data": {
      "text/plain": [
       "'{\"type\": \"FeatureCollection\", \"features\": [{\"id\": \"0\", \"type\": \"Feature\", \"properties\": {\"avg\": null'"
      ]
     },
     "execution_count": 24,
     "metadata": {},
     "output_type": "execute_result"
    }
   ],
   "source": []
  },
  {
   "cell_type": "code",
   "execution_count": 19,
   "id": "d9afb77a",
   "metadata": {},
   "outputs": [],
   "source": [
    "# retrieve 2021-01-01 (default) data\n",
    "o3_2021_04_29_merged = o3_merged[o3_merged['date'] == '2021-04-29']\n",
    "o3_2021_04_29_df = json.loads(o3_2021_04_29_merged.to_json())\n",
    "o3_2021_04_29_data = json.dumps(o3_2021_04_29_df)\n",
    "\n",
    "so2_2021_04_29_merged = so2_merged[so2_merged['date'] == '2021-04-29']\n",
    "so2_2021_04_29_df = json.loads(so2_2021_04_29_merged.to_json())\n",
    "so2_2021_04_29_data = json.dumps(so2_2021_04_29_df)"
   ]
  },
  {
   "cell_type": "code",
   "execution_count": 16,
   "id": "7d871ff4",
   "metadata": {},
   "outputs": [],
   "source": [
    "from bokeh.io import output_notebook, show, output_file\n",
    "from bokeh.plotting import figure\n",
    "from bokeh.models import GeoJSONDataSource, LinearColorMapper, ColorBar\n",
    "from bokeh.palettes import brewer\n",
    "from bokeh.io import curdoc, output_notebook\n",
    "from bokeh.models import DateSlider, HoverTool, Panel, Slider, Dropdown\n",
    "from bokeh.layouts import widgetbox, row, column\n",
    "from bokeh.models.callbacks import CustomJS"
   ]
  },
  {
   "cell_type": "code",
   "execution_count": 11,
   "id": "eec9d16b",
   "metadata": {},
   "outputs": [],
   "source": [
    "# for o3\n",
    "geosource = GeoJSONDataSource(geojson = o3_data)\n",
    "# geosource = GeoJSONDataSource(geojson = o3_2021_01_01_data)"
   ]
  },
  {
   "cell_type": "code",
   "execution_count": 12,
   "id": "bc35e7b2",
   "metadata": {},
   "outputs": [],
   "source": [
    "displayed_source = GeoJSONDataSource(geojson = o3_2021_04_29_data)"
   ]
  },
  {
   "cell_type": "code",
   "execution_count": 13,
   "id": "ae03645d",
   "metadata": {},
   "outputs": [
    {
     "data": {
      "text/html": [
       "<div>\n",
       "<style scoped>\n",
       "    .dataframe tbody tr th:only-of-type {\n",
       "        vertical-align: middle;\n",
       "    }\n",
       "\n",
       "    .dataframe tbody tr th {\n",
       "        vertical-align: top;\n",
       "    }\n",
       "\n",
       "    .dataframe thead th {\n",
       "        text-align: right;\n",
       "    }\n",
       "</style>\n",
       "<table border=\"1\" class=\"dataframe\">\n",
       "  <thead>\n",
       "    <tr style=\"text-align: right;\">\n",
       "      <th></th>\n",
       "      <th>country</th>\n",
       "      <th>country_code</th>\n",
       "      <th>geometry</th>\n",
       "      <th>date</th>\n",
       "      <th>type</th>\n",
       "      <th>avg</th>\n",
       "    </tr>\n",
       "  </thead>\n",
       "  <tbody>\n",
       "    <tr>\n",
       "      <th>0</th>\n",
       "      <td>Fiji</td>\n",
       "      <td>FJ</td>\n",
       "      <td>MULTIPOLYGON (((180.00000 -16.06713, 180.00000...</td>\n",
       "      <td>NaN</td>\n",
       "      <td>so2</td>\n",
       "      <td>NaN</td>\n",
       "    </tr>\n",
       "    <tr>\n",
       "      <th>1</th>\n",
       "      <td>Tanzania</td>\n",
       "      <td>TZ</td>\n",
       "      <td>POLYGON ((33.90371 -0.95000, 34.07262 -1.05982...</td>\n",
       "      <td>NaN</td>\n",
       "      <td>so2</td>\n",
       "      <td>NaN</td>\n",
       "    </tr>\n",
       "    <tr>\n",
       "      <th>2</th>\n",
       "      <td>W. Sahara</td>\n",
       "      <td>EH</td>\n",
       "      <td>POLYGON ((-8.66559 27.65643, -8.66512 27.58948...</td>\n",
       "      <td>NaN</td>\n",
       "      <td>so2</td>\n",
       "      <td>NaN</td>\n",
       "    </tr>\n",
       "    <tr>\n",
       "      <th>3</th>\n",
       "      <td>Canada</td>\n",
       "      <td>CA</td>\n",
       "      <td>MULTIPOLYGON (((-122.84000 49.00000, -122.9742...</td>\n",
       "      <td>2020-12-28</td>\n",
       "      <td>so2</td>\n",
       "      <td>0.8899999999999999</td>\n",
       "    </tr>\n",
       "    <tr>\n",
       "      <th>4</th>\n",
       "      <td>Canada</td>\n",
       "      <td>CA</td>\n",
       "      <td>MULTIPOLYGON (((-122.84000 49.00000, -122.9742...</td>\n",
       "      <td>2020-12-29</td>\n",
       "      <td>so2</td>\n",
       "      <td>0.8599999999999998</td>\n",
       "    </tr>\n",
       "  </tbody>\n",
       "</table>\n",
       "</div>"
      ],
      "text/plain": [
       "     country country_code                                           geometry  \\\n",
       "0       Fiji           FJ  MULTIPOLYGON (((180.00000 -16.06713, 180.00000...   \n",
       "1   Tanzania           TZ  POLYGON ((33.90371 -0.95000, 34.07262 -1.05982...   \n",
       "2  W. Sahara           EH  POLYGON ((-8.66559 27.65643, -8.66512 27.58948...   \n",
       "3     Canada           CA  MULTIPOLYGON (((-122.84000 49.00000, -122.9742...   \n",
       "4     Canada           CA  MULTIPOLYGON (((-122.84000 49.00000, -122.9742...   \n",
       "\n",
       "         date type                 avg  \n",
       "0         NaN  so2                 NaN  \n",
       "1         NaN  so2                 NaN  \n",
       "2         NaN  so2                 NaN  \n",
       "3  2020-12-28  so2  0.8899999999999999  \n",
       "4  2020-12-29  so2  0.8599999999999998  "
      ]
     },
     "execution_count": 13,
     "metadata": {},
     "output_type": "execute_result"
    }
   ],
   "source": [
    "tick_labels = {}\n",
    "for i in range(0, 40):\n",
    "    s = str(i)\n",
    "    tick_labels[s] = s\n",
    "\n",
    "so2_merged.head()"
   ]
  },
  {
   "cell_type": "code",
   "execution_count": 14,
   "id": "90283864",
   "metadata": {},
   "outputs": [],
   "source": [
    "# palette = brewer['YlGnBu']\n",
    "# palette = palette[::-1]\n",
    "\n",
    "#Instantiate LinearColorMapper that linearly maps numbers in a range, into a sequence of colors.\n",
    "low = 0 # TODO\n",
    "high = 40 # TODO\n",
    "color_mapper = LinearColorMapper(palette = \"Viridis256\", low = low, high = high, nan_color='#d9d9d9')\n",
    "\n",
    "# Initialize figure object.\n",
    "p = figure(title = 'O3 concentration on 2021-04-29', plot_height = 600 , plot_width = 950)\n",
    "# p.xgrid.grid_line_color = None\n",
    "# p.ygrid.grid_line_color = None\n",
    "\n",
    "# Add patch renderer for filling in country \n",
    "p.patches('xs','ys', source = displayed_source, fill_color = {'field' :'avg', 'transform' : color_mapper},\n",
    "          line_color = 'black', line_width = 0.25, fill_alpha = 1)\n",
    "\n",
    "# Add color bar\n",
    "# tick_labels = {'30':'30','31':'31', '32':'32', '33':'33', '34':'34', '35':'35', '36':'36', '37':'37', '38':'38', '39':'39',  '40': '>40'} \n",
    "color_bar = ColorBar(color_mapper=color_mapper, label_standoff=8,width = 500, height = 20,\n",
    "border_line_color='grey',location = (0,0), orientation = 'horizontal', major_label_overrides = tick_labels)\n",
    "p.add_layout(color_bar, 'below')\n",
    "\n",
    "#Display figure\n",
    "# show(p)"
   ]
  },
  {
   "cell_type": "code",
   "execution_count": 23,
   "id": "edf4c7e1",
   "metadata": {},
   "outputs": [
    {
     "name": "stderr",
     "output_type": "stream",
     "text": [
      "BokehDeprecationWarning: 'WidgetBox' is deprecated and will be removed in Bokeh 3.0, use 'bokeh.models.Column' instead\n"
     ]
    }
   ],
   "source": [
    "start = 0\n",
    "end = 200\n",
    "from datetime import date\n",
    "slider = DateSlider(title = 'date', start = date(2021, 1, 1), end = date(2021, 10, 1), step = 1, value = date(2021, 4, 29))\n",
    "\n",
    "slider_callback = CustomJS(args=dict(slider=slider, source=geosource, displayed_src=displayed_source), code=\"\"\"\n",
    "    var s_value = slider.value \n",
    "    var date = (new Date(s_value)).toISOString().slice(0, 10)\n",
    "       \n",
    "    var columns = Object.keys(source.data)\n",
    "    var data = {}\n",
    "    columns.forEach(function(key) {\n",
    "        data[key] = [];\n",
    "    });\n",
    "    for( var i = 0; i < source.get_length(); i++){\n",
    "        if(source.data['date'][i] == date || !source.data['date'][i]){\n",
    "            columns.forEach((key) => {\n",
    "                data[key].push(source.data[key][i])\n",
    "            })\n",
    "        }\n",
    "    }\n",
    "    displayed_src.data = data;\n",
    "    console.log(displayed_src.data)\n",
    "    displayed_src.change.emit();\n",
    "\"\"\")\n",
    "\n",
    "slider.js_on_change('value', slider_callback)\n",
    "\n",
    "\n",
    "# Update figure title from slider change\n",
    "title_callback = CustomJS(args=dict(slider=slider, figure=p), code=\"\"\"\n",
    "    var num = slider.value;\n",
    "    var date = (new Date(num)).toISOString().slice(0, 10)\n",
    "    figure.title.text = 'O3 concentration on ' + date;\n",
    "\"\"\")\n",
    "slider.js_on_change('value', title_callback)\n",
    "\n",
    "air_indices = [(\"O3\", \"o3\"), (\"SO2\", \"so2\"), (\"CO\", \"co\"), (\"PM10\", \"pm10\"), (\"PM25\", \"pm25\")]\n",
    "dropdown = Dropdown(label=\"Air pollution index\", button_type=\"default\", menu=air_indices)\n",
    "dropdown_callback = CustomJS(args=dict(source=geosource, displayed_src=displayed_source), code=\"\"\"\n",
    "    var index = this.item\n",
    "    console.log(index)\n",
    "    var data = {}\n",
    "//    if (index == \"so2\")\n",
    "        data = so2_data\n",
    "    source = GeoJSONDataSource(geojson = data)\n",
    "    displayed_src = GeoJSONDataSource(geojson=so2_2021_04_29_data)\n",
    "    displayed_src.change.emit();\n",
    "    source.change.emit();\n",
    "    \n",
    "\"\"\")\n",
    "dropdown.js_on_event(\"menu_item_click\", dropdown_callback)\n",
    "\n",
    "layout = column(p, widgetbox(slider, dropdown))\n",
    "\n",
    "curdoc().clear()\n",
    "curdoc().add_root(layout)\n",
    "\n",
    "show(layout)"
   ]
  },
  {
   "cell_type": "markdown",
   "id": "d113dfe7",
   "metadata": {},
   "source": [
    "# ----------------------------"
   ]
  },
  {
   "cell_type": "code",
   "execution_count": null,
   "id": "22861883",
   "metadata": {},
   "outputs": [],
   "source": []
  },
  {
   "cell_type": "code",
   "execution_count": 18,
   "id": "ee75320b",
   "metadata": {},
   "outputs": [],
   "source": [
    "\n",
    "\n",
    "menu = [(\"Item 1\", \"item_1\"), (\"Item 2\", \"item_2\"), None, (\"Item 3\", \"item_3\")]\n",
    "\n",
    "dropdown = Dropdown(label=\"Dropdown button\", button_type=\"warning\", menu=menu)\n",
    "dropdown.js_on_event(\"menu_item_click\", CustomJS(code=\"console.log('dropdown: ' + this.item, this.toString())\"))\n",
    "\n",
    "show(dropdown)\n"
   ]
  },
  {
   "cell_type": "code",
   "execution_count": null,
   "id": "d63736a6",
   "metadata": {},
   "outputs": [],
   "source": []
  }
 ],
 "metadata": {
  "kernelspec": {
   "display_name": "Python 3 (ipykernel)",
   "language": "python",
   "name": "python3"
  },
  "language_info": {
   "codemirror_mode": {
    "name": "ipython",
    "version": 3
   },
   "file_extension": ".py",
   "mimetype": "text/x-python",
   "name": "python",
   "nbconvert_exporter": "python",
   "pygments_lexer": "ipython3",
   "version": "3.7.4"
  }
 },
 "nbformat": 4,
 "nbformat_minor": 5
}
